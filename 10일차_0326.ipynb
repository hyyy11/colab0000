{
  "nbformat": 4,
  "nbformat_minor": 0,
  "metadata": {
    "colab": {
      "provenance": [],
      "authorship_tag": "ABX9TyMUbBct29awro2gus+loxMv",
      "include_colab_link": true
    },
    "kernelspec": {
      "name": "python3",
      "display_name": "Python 3"
    },
    "language_info": {
      "name": "python"
    },
    "accelerator": "GPU",
    "gpuClass": "standard"
  },
  "cells": [
    {
      "cell_type": "markdown",
      "metadata": {
        "id": "view-in-github",
        "colab_type": "text"
      },
      "source": [
        "<a href=\"https://colab.research.google.com/github/hyyy11/colab0000/blob/main/10%EC%9D%BC%EC%B0%A8_0326.ipynb\" target=\"_parent\"><img src=\"https://colab.research.google.com/assets/colab-badge.svg\" alt=\"Open In Colab\"/></a>"
      ]
    },
    {
      "cell_type": "code",
      "execution_count": null,
      "metadata": {
        "id": "E4io_FFRZqAG"
      },
      "outputs": [],
      "source": [
        "import numpy as np\n",
        "\n",
        "def im2col(img, flt_h, flt_w):      #입력 이미지, 필터 높이, 폭\n",
        "\n",
        "\n",
        "    img_h, img_w = img.shape         #입력 이미지의 높이, 폭\n",
        "    out_h = img_h - flt_h + 1       #출력 이미지의 높이(패딩없음, 스트라이드1)\n",
        "    out_w = img_w - flt_w + 1       #출력 이미지의 폭(패딩 없음, 스트라이드1)\n",
        "    cols = np.zeros((flt_h*flt_w, out_h*out_w))     #생성되는 행렬의 크기\n",
        "\n",
        "    for h in range(out_h):\n",
        "       h_lim = h + flt_h      #h:필터가 걸리는 영역의 위쪽 끝, h_lim: 필터가 걸리는 영역의 아래쪽 끝\n",
        "\n",
        "       for w in range(out_w):\n",
        "           w_lim = w + flt_w   #w: 필터가 걸리는 영역의 왼쪽 끝, w_lim: 필터가 걸리는 영역의 오른쪽 끝\n",
        "\n",
        "           cols[:, h*out_w+w] = img[h:h_lim, w:w_lim].reshape(-1)\n",
        "\n",
        "\n",
        "    return cols"
      ]
    },
    {
      "cell_type": "code",
      "source": [
        "img = np.array([[1, 2, 3, 4],           #입력 이미지\n",
        "                [5, 6, 7, 8],\n",
        "                [9, 10, 11, 12],\n",
        "                [13, 14, 15, 16]])\n",
        "                \n",
        "\n",
        "\n",
        "cols = im2col(img, 2, 2)      #입력 이미지와 필터의 높이, 폭을 전달한다\n",
        "\n",
        "print(cols)"
      ],
      "metadata": {
        "colab": {
          "base_uri": "https://localhost:8080/"
        },
        "id": "YOH7i-hbfIXP",
        "outputId": "cbd4b067-7c18-4426-9e06-29d3a67bc823"
      },
      "execution_count": null,
      "outputs": [
        {
          "output_type": "stream",
          "name": "stdout",
          "text": [
            "[[ 1.  2.  3.  5.  6.  7.  9. 10. 11.]\n",
            " [ 2.  3.  4.  6.  7.  8. 10. 11. 12.]\n",
            " [ 5.  6.  7.  9. 10. 11. 13. 14. 15.]\n",
            " [ 6.  7.  8. 10. 11. 12. 14. 15. 16.]]\n"
          ]
        }
      ]
    },
    {
      "cell_type": "code",
      "source": [
        "def im2col(images, flt_h, flt_w, stride, pad):\n",
        "\n",
        "\n",
        "    n_bt, n_ch, img_h, img_w = images.shape\n",
        "    out_h = (img_h - flt_h + 2*pad)  //  stride + 1    #출력 이미지의 높이\n",
        "    out_w = (img_w - flt_w + 2*pad)  //  stride + 1    #출력 이미지의 폭\n",
        "\n",
        "\n",
        "    img_pad = np.pad(images, [(0,0), (0,0), (pad,pad), (pad,pad)], \"constant\")\n",
        "    cols = np.zeros((n_bt, n_ch, flt_h, flt_w, out_h, out_w))\n",
        "\n",
        "\n",
        "    for h in range(flt_h):\n",
        "        h_lim = h + stride*out_h\n",
        "        for w in range(flt_w):\n",
        "            w_lim = w + stride*out_w\n",
        "            cols[:, :, h, w, :, :] = img_pad[:, :, h:h_lim:stride, w:w_lim:stride]\n",
        "\n",
        "    cols = cols.transpose(1, 2, 3, 0, 4, 5).reshape(n_ch*flt_h*flt_w, n_bt*out_h*out_w)\n",
        "    return cols"
      ],
      "metadata": {
        "id": "twBzx1SaluB2"
      },
      "execution_count": null,
      "outputs": []
    },
    {
      "cell_type": "code",
      "source": [
        "img = np.array([[[[1, 2, 3, 4],     #입력 이미지\n",
        "                  [5, 6, 7, 8],\n",
        "                  [9, 10,11,12],\n",
        "                  [13,14,15,16]]]])\n",
        "\n",
        "\n",
        "cols = im2col(img, 2, 2, 1, 0)    #입력 이미지, 필터의 높이, 폭, 스트라이드, 패딩 폭\n",
        "print(cols)"
      ],
      "metadata": {
        "colab": {
          "base_uri": "https://localhost:8080/"
        },
        "id": "5mqkt86stB2E",
        "outputId": "182f9aa6-35f7-4e6b-fd60-19e4a01d9ce2"
      },
      "execution_count": null,
      "outputs": [
        {
          "output_type": "stream",
          "name": "stdout",
          "text": [
            "[[ 1.  2.  3.  5.  6.  7.  9. 10. 11.]\n",
            " [ 2.  3.  4.  6.  7.  8. 10. 11. 12.]\n",
            " [ 5.  6.  7.  9. 10. 11. 13. 14. 15.]\n",
            " [ 6.  7.  8. 10. 11. 12. 14. 15. 16.]]\n"
          ]
        }
      ]
    },
    {
      "cell_type": "code",
      "source": [
        "import matplotlib.pyplot as plt\n",
        "from sklearn import datasets\n",
        "\n",
        "digits = datasets.load_digits()\n",
        "\n",
        "image = digits.data[0].reshape(8,8)\n",
        "plt.imshow(image, cmap=\"gray\")          #최초의 손으로 쓴 문자 이미지를 표시\n",
        "plt.show"
      ],
      "metadata": {
        "colab": {
          "base_uri": "https://localhost:8080/",
          "height": 283
        },
        "id": "WU-uzIJgxWUz",
        "outputId": "9426e3ab-3d08-4764-deda-252e0965897b"
      },
      "execution_count": null,
      "outputs": [
        {
          "output_type": "execute_result",
          "data": {
            "text/plain": [
              "<function matplotlib.pyplot.show(close=None, block=None)>"
            ]
          },
          "metadata": {},
          "execution_count": 7
        },
        {
          "output_type": "display_data",
          "data": {
            "text/plain": [
              "<Figure size 432x288 with 1 Axes>"
            ],
            "image/png": "[encoded data removed]"
          },
          "metadata": {
            "needs_background": "light"
          }
        }
      ]
    },
    {
      "cell_type": "code",
      "source": [
        "def im2col(img, flt_h, flt_w, out_h, out_w):      #입력 이미지 필터의 높이, 폭, 출력의 이미지의 높이, 폭\n",
        "    cols = np.zeros((flt_h*flt_w, out_h*out_w))   #생성되는 행렬의 크기 \n",
        "\n",
        "    for h in range(out_h):\n",
        "        h_lim = h + flt_h      #h:필터가 걸리는 영역의 위쪽 끝, h_lim:필터가 걸리는 영역의 아래쪽 끝\n",
        "        for w in range(out_w):\n",
        "            w_lim = w + flt_w  #w:필터가 걸리는 영역의 왼쪽 끝, w_lim:필터가 걸리는 영역의 오른쪽 끝\n",
        "            cols[:, h*out_w+w] = img[h:h_lim, w:w_lim].reshape(-1)\n",
        "\n",
        "    return cols"
      ],
      "metadata": {
        "id": "a6ACQk0Wz2oq"
      },
      "execution_count": null,
      "outputs": []
    },
    {
      "cell_type": "code",
      "source": [
        "flt = np.array([[-1, 1, -1,],     #세로 선을 강조하는 필터\n",
        "                [-1, 1, -1,],\n",
        "                [-1, 1, -1,]])\n",
        "\n",
        "flt_h, flt_w = flt.shape\n",
        "flt = flt.reshape(-1)             #행 수가 1인 행렬\n",
        "\n",
        "\n",
        "img_h, img_w = image.shape        #입력 이미지의 높이, 폭\n",
        "out_h = img_h - flt_h + 1         #출력 이미지의 높이(패딩없음, 스트라이드1)\n",
        "out_w = img_w - flt_w + 1         #출력 이미지의 폭(패딩없음, 스트라이드1)\n",
        "\n",
        "cols = im2col(image, flt_h, flt_w, out_h, out_w)\n",
        "\n",
        "\n",
        "image_out = np.dot(flt, cols)     #합성곱\n",
        "image_out = image_out.reshape(out_h, out_w)\n",
        "plt.imshow(image_out, cmap=\"gray\")\n",
        "plt.show"
      ],
      "metadata": {
        "colab": {
          "base_uri": "https://localhost:8080/",
          "height": 283
        },
        "id": "mcW9BJN8Z4Ru",
        "outputId": "a065ff45-e76d-4a5c-8a18-90025df5576a"
      },
      "execution_count": null,
      "outputs": [
        {
          "output_type": "execute_result",
          "data": {
            "text/plain": [
              "<function matplotlib.pyplot.show(close=None, block=None)>"
            ]
          },
          "metadata": {},
          "execution_count": 9
        },
        {
          "output_type": "display_data",
          "data": {
            "text/plain": [
              "<Figure size 432x288 with 1 Axes>"
            ],
            "image/png": "[encoded data removed]"
          },
          "metadata": {
            "needs_background": "light"
          }
        }
      ]
    },
    {
      "cell_type": "code",
      "source": [
        "import numpy as np\n",
        "import matplotlib.pyplot as plt\n",
        "from sklearn import datasets\n",
        "\n",
        "\n",
        "digits = datasets.load_digits()\n",
        "print(digits.data.shape)\n",
        "\n",
        "\n",
        "image = digits.data[0].reshape(8, 8)\n",
        "plt.imshow(image, cmap=\"gray\")\n",
        "plt.show()"
      ],
      "metadata": {
        "colab": {
          "base_uri": "https://localhost:8080/",
          "height": 283
        },
        "id": "Chbhzej83O44",
        "outputId": "6b6cacb9-c71b-436e-a263-69f017058582"
      },
      "execution_count": null,
      "outputs": [
        {
          "output_type": "stream",
          "name": "stdout",
          "text": [
            "(1797, 64)\n"
          ]
        },
        {
          "output_type": "display_data",
          "data": {
            "text/plain": [
              "<Figure size 432x288 with 1 Axes>"
            ],
            "image/png": "[encoded data removed]"
          },
          "metadata": {
            "needs_background": "light"
          }
        }
      ]
    },
    {
      "cell_type": "code",
      "source": [
        "def im2col(img, flt_h, flt_w, out_h, out_w, stride):       #입력 이미지, 풀링 영역의 높이, 폭, 출력 이미지의 높이, 폭, 스트라이드\n",
        "    cols = np.zeros((flt_h*flt_w, out_h*out_w))        #생성되는 행렬의 크기\n",
        "    for h in range(out_h):\n",
        "        h_lim = stride*h + flt_h     #h:풀링 영역의 위쪽 끝, h_lim:풀링 영역의 아래쪽 끝\n",
        "        for w in range(out_w):\n",
        "            w_lim = stride*w + flt_w   #풀링 영역의 왼쪽 끝, w_lim = 풀링 영역의 오른쪽 끝\n",
        "            cols[:, h*out_w+w] = img[stride*h:h_lim, stride*w:w_lim].reshape(-1)\n",
        "\n",
        "\n",
        "            return cols"
      ],
      "metadata": {
        "id": "wB4E4_bg5BcF"
      },
      "execution_count": null,
      "outputs": []
    },
    {
      "cell_type": "code",
      "source": [
        "img_h, img_w = image.shape    #입력 이미지의 높이, 폭\n",
        "pool = 2    #풀링 영역의 크기\n",
        "\n",
        "\n",
        "out_h = img_h//pool     #출력 이미지의 높이\n",
        "out_w = img_w//pool     #출력 이미지의 폭\n",
        "\n",
        "\n",
        "cols = im2col(image, pool, pool, out_h, out_w, pool)       #스트라이드 크기를 풀링 영역의 크기와 같게\n",
        "image_out = np.max(cols, axis=0)      #각 열의 최댓값을 취득(Max 풀링)\n",
        "image_out = image_out.reshape(out_h, out_w)    #출력의 형태를 갖춘다\n",
        "\n",
        "\n",
        "plt.imshow(image_out, cmap=\"gray\")\n",
        "plt.show()"
      ],
      "metadata": {
        "colab": {
          "base_uri": "https://localhost:8080/",
          "height": 269
        },
        "id": "msuLt-l78sqY",
        "outputId": "256b65f8-442d-4cd9-f49f-58553a566d6c"
      },
      "execution_count": null,
      "outputs": [
        {
          "output_type": "display_data",
          "data": {
            "text/plain": [
              "<Figure size 432x288 with 1 Axes>"
            ],
            "image/png": "[encoded data removed]"
          },
          "metadata": {
            "needs_background": "light"
          }
        }
      ]
    }
  ]
}