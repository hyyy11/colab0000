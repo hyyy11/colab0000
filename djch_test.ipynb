{
  "nbformat": 4,
  "nbformat_minor": 0,
  "metadata": {
    "colab": {
      "provenance": [],
      "mount_file_id": "1hNlaP5i7GtvoeZzv039GG2ggPrevMapx",
      "authorship_tag": "ABX9TyPFvRbSzfEDWT5uSGHmvl2A",
      "include_colab_link": true
    },
    "kernelspec": {
      "name": "python3",
      "display_name": "Python 3"
    },
    "language_info": {
      "name": "python"
    }
  },
  "cells": [
    {
      "cell_type": "markdown",
      "metadata": {
        "id": "view-in-github",
        "colab_type": "text"
      },
      "source": [
        "<a href=\"https://colab.research.google.com/github/hyyy11/colab0000/blob/main/djch_test.ipynb\" target=\"_parent\"><img src=\"https://colab.research.google.com/assets/colab-badge.svg\" alt=\"Open In Colab\"/></a>"
      ]
    },
    {
      "cell_type": "code",
      "execution_count": 1,
      "metadata": {
        "colab": {
          "base_uri": "https://localhost:8080/"
        },
        "id": "JFJw42HtmDeP",
        "outputId": "71cb91ef-18a2-45d5-adcb-a1ae0c665ac0"
      },
      "outputs": [
        {
          "output_type": "stream",
          "name": "stdout",
          "text": [
            "1부터 10000까지의 합: 5050\n"
          ]
        }
      ],
      "source": [
        "# 1부터 100까지 파일 생성\n",
        "with open('numbers.txt', 'w') as f:\n",
        "    for i in range(1, 101):\n",
        "        f.write(str(i) + '\\n')\n",
        "\n",
        "# 파일 읽어서 1부터 10000까지 더하기\n",
        "total = 0\n",
        "with open('numbers.txt', 'r') as f:\n",
        "    for line in f:\n",
        "        num = int(line.strip())\n",
        "        total += num\n",
        "\n",
        "print(\"1부터 10000까지의 합:\", total)"
      ]
    }
  ]
}